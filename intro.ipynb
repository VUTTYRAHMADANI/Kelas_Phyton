{
  "nbformat": 4,
  "nbformat_minor": 0,
  "metadata": {
    "colab": {
      "name": "Untitled3.ipynb",
      "provenance": [],
      "authorship_tag": "ABX9TyNdo5NJG7BeQ3X8vI0pigNf",
      "include_colab_link": true
    },
    "kernelspec": {
      "name": "python3",
      "display_name": "Python 3"
    },
    "language_info": {
      "name": "python"
    }
  },
  "cells": [
    {
      "cell_type": "markdown",
      "metadata": {
        "id": "view-in-github",
        "colab_type": "text"
      },
      "source": [
        "<a href=\"https://colab.research.google.com/github/VUTTYRAHMADANI/Kelas_Phyton/blob/main/intro.ipynb\" target=\"_parent\"><img src=\"https://colab.research.google.com/assets/colab-badge.svg\" alt=\"Open In Colab\"/></a>"
      ]
    },
    {
      "cell_type": "markdown",
      "metadata": {
        "id": "hez437mDa_k6"
      },
      "source": [
        "Hello world"
      ]
    },
    {
      "cell_type": "code",
      "metadata": {
        "id": "qRtb_GyoXs0f",
        "colab": {
          "base_uri": "https://localhost:8080/"
        },
        "outputId": "07cfb9ce-6940-4f98-96d8-99de06824039"
      },
      "source": [
        "print('hello world! Saya akan belajar phyton bersungguh - sungguh!')"
      ],
      "execution_count": 1,
      "outputs": [
        {
          "output_type": "stream",
          "name": "stdout",
          "text": [
            "hello world! Saya akan belajar phyton bersungguh - sungguh!\n"
          ]
        }
      ]
    },
    {
      "cell_type": "markdown",
      "metadata": {
        "id": "RMGVGcMabIHe"
      },
      "source": [
        "Case Sensitive"
      ]
    },
    {
      "cell_type": "code",
      "metadata": {
        "id": "IWHqb5zXZFD8",
        "outputId": "4ac6d88c-7de2-465d-cfb5-b68190e00df7",
        "colab": {
          "base_uri": "https://localhost:8080/"
        }
      },
      "source": [
        "ibu_kota = 'Jakarta'\n",
        "print(ibu_kota)"
      ],
      "execution_count": 4,
      "outputs": [
        {
          "output_type": "stream",
          "name": "stdout",
          "text": [
            "Jakarta\n"
          ]
        }
      ]
    },
    {
      "cell_type": "markdown",
      "metadata": {
        "id": "eSb81sKGaT-D"
      },
      "source": [
        "Penulisan Statement"
      ]
    },
    {
      "cell_type": "code",
      "metadata": {
        "id": "AwQvLYvcaW-X",
        "outputId": "0cd51450-674c-4eb4-efb0-badf0fe87555",
        "colab": {
          "base_uri": "https://localhost:8080/"
        }
      },
      "source": [
        "a = 5\n",
        "b = 8\n",
        "c = a + b\n",
        "\n",
        "print(c)"
      ],
      "execution_count": 5,
      "outputs": [
        {
          "output_type": "stream",
          "name": "stdout",
          "text": [
            "13\n"
          ]
        }
      ]
    },
    {
      "cell_type": "markdown",
      "metadata": {
        "id": "pm7pVJOoavQX"
      },
      "source": [
        "Kita tetap bisa menggunakan titik koma"
      ]
    },
    {
      "cell_type": "code",
      "metadata": {
        "id": "IpCtLEEya0rt",
        "outputId": "69926081-dc69-4a4b-effb-bb2169bfa440",
        "colab": {
          "base_uri": "https://localhost:8080/"
        }
      },
      "source": [
        "a = 5; b = 8; c = a + b;\n",
        "\n",
        "print(c)"
      ],
      "execution_count": 6,
      "outputs": [
        {
          "output_type": "stream",
          "name": "stdout",
          "text": [
            "13\n"
          ]
        }
      ]
    },
    {
      "cell_type": "markdown",
      "metadata": {
        "id": "JGgNY0uSbPVO"
      },
      "source": [
        "Satu Statemen Multi Baris"
      ]
    },
    {
      "cell_type": "code",
      "metadata": {
        "id": "w9N9Dy7BbVmJ"
      },
      "source": [
        "kondisi = 10 < 5 \\\n",
        "  and 10 > 9 \\\n",
        "  or 11 == 6 + 5 \\\n",
        "  and 0 == 100 * 5 / (25 - 15)"
      ],
      "execution_count": 7,
      "outputs": []
    },
    {
      "cell_type": "markdown",
      "metadata": {
        "id": "wuBti6E5bsPp"
      },
      "source": [
        "Indentasi Sebagai Pembentuk Struktur"
      ]
    },
    {
      "cell_type": "code",
      "metadata": {
        "id": "CQglD8MIcFFU",
        "outputId": "8e4f3822-abcd-47ec-88a5-f4c06a1c4981",
        "colab": {
          "base_uri": "https://localhost:8080/"
        }
      },
      "source": [
        "a = 10\n",
        "\n",
        "if a > 5:\n",
        "  print('nilai a lebih dari 5')"
      ],
      "execution_count": 8,
      "outputs": [
        {
          "output_type": "stream",
          "name": "stdout",
          "text": [
            "nilai a lebih dari 5\n"
          ]
        }
      ]
    },
    {
      "cell_type": "markdown",
      "metadata": {
        "id": "UWiigUbncr-_"
      },
      "source": [
        "Tidak Ketat Terhadap Tipe Data"
      ]
    },
    {
      "cell_type": "code",
      "metadata": {
        "id": "cePpi8azcuXE"
      },
      "source": [
        "# nilai awal berupa integer\n",
        "a = 5\n",
        "# kita ubah menjadi string dan tidak error\n",
        "a = 'Nurul Huda'"
      ],
      "execution_count": 10,
      "outputs": []
    },
    {
      "cell_type": "markdown",
      "metadata": {
        "id": "4EJrpuFNdFvV"
      },
      "source": [
        "Tanda Petik dan Tanda Petik Dua"
      ]
    },
    {
      "cell_type": "code",
      "metadata": {
        "id": "vS4uxCmjdHZx"
      },
      "source": [
        "nama = 'Nurul Huda'\n",
        "asal = \"Indonesia\""
      ],
      "execution_count": 11,
      "outputs": []
    },
    {
      "cell_type": "markdown",
      "metadata": {
        "id": "9Z78qEH2dZaR"
      },
      "source": [
        "Penulisan Komentar"
      ]
    },
    {
      "cell_type": "code",
      "metadata": {
        "id": "mBB_xpR_dase"
      },
      "source": [
        "# variabel a merepresentasikan panjang\n",
        "a = 5\n",
        "b = 10 # variabel b merepresentasikan tinggi\n",
        "\n",
        "\"\"\"\n",
        "Dan variabel c merepresentasikan luas\n",
        "persegi dari hasil perkalian\n",
        "variabel a dan variabel b\n",
        "\"\"\"\n",
        "c = a * b"
      ],
      "execution_count": 12,
      "outputs": []
    },
    {
      "cell_type": "code",
      "metadata": {
        "id": "I-wq2_CSdpOg",
        "outputId": "fbbdb725-2968-4f67-b56d-3f839f414fc0",
        "colab": {
          "base_uri": "https://localhost:8080/"
        }
      },
      "source": [
        "a = 5\n",
        "b= 10\n",
        "c = a * b\n",
        "print(c)"
      ],
      "execution_count": 14,
      "outputs": [
        {
          "output_type": "stream",
          "name": "stdout",
          "text": [
            "50\n"
          ]
        }
      ]
    }
  ]
}