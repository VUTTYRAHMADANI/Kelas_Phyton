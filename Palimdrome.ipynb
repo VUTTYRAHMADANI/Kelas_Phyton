{
  "nbformat": 4,
  "nbformat_minor": 0,
  "metadata": {
    "colab": {
      "name": "Palimdrome.ipynb",
      "provenance": [],
      "collapsed_sections": [],
      "authorship_tag": "ABX9TyMbQ++zpYbfVzjuBRlXgYNq",
      "include_colab_link": true
    },
    "kernelspec": {
      "name": "python3",
      "display_name": "Python 3"
    },
    "language_info": {
      "name": "python"
    }
  },
  "cells": [
    {
      "cell_type": "markdown",
      "metadata": {
        "id": "view-in-github",
        "colab_type": "text"
      },
      "source": [
        "<a href=\"https://colab.research.google.com/github/VUTTYRAHMADANI/Kelas_Phyton/blob/main/Palimdrome.ipynb\" target=\"_parent\"><img src=\"https://colab.research.google.com/assets/colab-badge.svg\" alt=\"Open In Colab\"/></a>"
      ]
    },
    {
      "cell_type": "code",
      "execution_count": 23,
      "metadata": {
        "id": "kW75hyxktrwt"
      },
      "outputs": [],
      "source": [
        "# Ujian Python.\n",
        "# Mencari Sebuah kata Palindrome atau tidak.\n",
        "def is_palindrome(word: str) -> bool:\n",
        "  \"\"\"Sebuah fungsi yang mengecek apakah kata itu palindrome atau tidak\n",
        "\n",
        "  Args:\n",
        "    word : str -> Kata yang akan dicek\n",
        "  \n",
        "  Return:\n",
        "    bool : True \n",
        "  \"\"\"\n",
        "  if word ==  word[::-1]:\n",
        "    return True\n",
        "  else:\n",
        "    return False\n",
        "     "
      ]
    },
    {
      "cell_type": "code",
      "source": [
        "test = is_palindrome(12)\n",
        "print(type(test))"
      ],
      "metadata": {
        "colab": {
          "base_uri": "https://localhost:8080/"
        },
        "id": "VHZPLQ2PEJ2e",
        "outputId": "8dea90c9-8507-4076-eca5-5209cbb8d9e7"
      },
      "execution_count": 4,
      "outputs": [
        {
          "output_type": "stream",
          "name": "stdout",
          "text": [
            "<class 'int'>\n"
          ]
        }
      ]
    },
    {
      "cell_type": "code",
      "source": [
        "kata = \"kakak\"\n",
        "\n",
        "print(is_palindrome(kata))"
      ],
      "metadata": {
        "colab": {
          "base_uri": "https://localhost:8080/"
        },
        "id": "QedYSEF-EUt3",
        "outputId": "7514c8f9-92f8-4cae-dbb8-c751aa1e188e"
      },
      "execution_count": 25,
      "outputs": [
        {
          "output_type": "stream",
          "name": "stdout",
          "text": [
            "True\n"
          ]
        }
      ]
    },
    {
      "cell_type": "code",
      "source": [
        "kata = \"level\"\n",
        "\n",
        "print (is_palindrome (kata))"
      ],
      "metadata": {
        "colab": {
          "base_uri": "https://localhost:8080/"
        },
        "id": "ar5sMgFPEodx",
        "outputId": "8f5bfc8a-785d-4595-db51-661fd282d7c9"
      },
      "execution_count": 18,
      "outputs": [
        {
          "output_type": "stream",
          "name": "stdout",
          "text": [
            "True\n"
          ]
        }
      ]
    },
    {
      "cell_type": "code",
      "source": [
        "kata = \"tamat\"\n",
        "\n",
        "print (is_palindrome (kata))"
      ],
      "metadata": {
        "colab": {
          "base_uri": "https://localhost:8080/"
        },
        "id": "cYJJps95Giv_",
        "outputId": "d08d6d63-06df-43c2-be18-78475164375b"
      },
      "execution_count": 19,
      "outputs": [
        {
          "output_type": "stream",
          "name": "stdout",
          "text": [
            "True\n"
          ]
        }
      ]
    },
    {
      "cell_type": "code",
      "source": [
        "kata = \"sinis\"\n",
        "\n",
        "print (is_palindrome (kata))"
      ],
      "metadata": {
        "colab": {
          "base_uri": "https://localhost:8080/"
        },
        "id": "ARfFZ81tGuJw",
        "outputId": "b1a9886e-8b39-4d5b-a487-abfe307d9051"
      },
      "execution_count": 20,
      "outputs": [
        {
          "output_type": "stream",
          "name": "stdout",
          "text": [
            "True\n"
          ]
        }
      ]
    },
    {
      "cell_type": "code",
      "source": [
        "kata = \"radar\"\n",
        "\n",
        "print (is_palindrome (kata))"
      ],
      "metadata": {
        "colab": {
          "base_uri": "https://localhost:8080/"
        },
        "id": "h5sL21BkG1C2",
        "outputId": "1244a995-436c-4072-8691-12f4707760ca"
      },
      "execution_count": 21,
      "outputs": [
        {
          "output_type": "stream",
          "name": "stdout",
          "text": [
            "True\n"
          ]
        }
      ]
    },
    {
      "cell_type": "code",
      "source": [
        "kata = \"masam\"\n",
        "\n",
        "print (is_palindrome (kata))"
      ],
      "metadata": {
        "colab": {
          "base_uri": "https://localhost:8080/"
        },
        "id": "GOKemM4vG5yE",
        "outputId": "3dc4192f-b876-4dae-a713-c7008270f3cc"
      },
      "execution_count": 22,
      "outputs": [
        {
          "output_type": "stream",
          "name": "stdout",
          "text": [
            "True\n"
          ]
        }
      ]
    }
  ]
}