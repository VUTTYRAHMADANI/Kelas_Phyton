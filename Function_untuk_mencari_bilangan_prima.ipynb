{
  "nbformat": 4,
  "nbformat_minor": 0,
  "metadata": {
    "colab": {
      "name": "Function_untuk_mencari_bilangan_prima.ipynb",
      "provenance": [],
      "authorship_tag": "ABX9TyNdZpeUyYXPR6TXk0nJwaVv",
      "include_colab_link": true
    },
    "kernelspec": {
      "name": "python3",
      "display_name": "Python 3"
    },
    "language_info": {
      "name": "python"
    }
  },
  "cells": [
    {
      "cell_type": "markdown",
      "metadata": {
        "id": "view-in-github",
        "colab_type": "text"
      },
      "source": [
        "<a href=\"https://colab.research.google.com/github/VUTTYRAHMADANI/Kelas_Phyton/blob/main/Function_untuk_mencari_bilangan_prima.ipynb\" target=\"_parent\"><img src=\"https://colab.research.google.com/assets/colab-badge.svg\" alt=\"Open In Colab\"/></a>"
      ]
    },
    {
      "cell_type": "code",
      "source": [
        "def is_primes(number):\n",
        "  \"\"\"Mencari apakah nilai itu bilangan prima atau tidak.\n",
        "\n",
        "  Args:\n",
        "    number: int\n",
        "\n",
        "  Return:\n",
        "    bool\n",
        "  \n",
        "  >>> x = 11\n",
        "  >>> print(is_primes(x))\n",
        "  True\n",
        "\n",
        "  >>> y = 6\n",
        "  >>> print(is_primes(y))\n",
        "  False\n",
        "\n",
        "  \"\"\"\n",
        "  if number < 1:\n",
        "    return False\n",
        "  else:\n",
        "    for i in range(2, number):\n",
        "      if number % i == 0:\n",
        "        return False\n",
        "    return True\n",
        "\n",
        "import doctest\n",
        "doctest.testmod()"
      ],
      "metadata": {
        "colab": {
          "base_uri": "https://localhost:8080/"
        },
        "id": "52VvngsbReG7",
        "outputId": "fa9c902b-1eb2-4f91-828b-72f1de30d020"
      },
      "execution_count": 22,
      "outputs": [
        {
          "output_type": "execute_result",
          "data": {
            "text/plain": [
              "TestResults(failed=0, attempted=4)"
            ]
          },
          "metadata": {},
          "execution_count": 22
        }
      ]
    },
    {
      "cell_type": "code",
      "source": [
        "x = 11\n",
        "\n",
        "print(is_primes(x))"
      ],
      "metadata": {
        "colab": {
          "base_uri": "https://localhost:8080/"
        },
        "id": "iarqCfl-UOUb",
        "outputId": "c96e914d-c352-4eb9-c15c-cc954a62bdea"
      },
      "execution_count": 6,
      "outputs": [
        {
          "output_type": "stream",
          "name": "stdout",
          "text": [
            "True\n"
          ]
        }
      ]
    },
    {
      "cell_type": "code",
      "source": [
        "x = 1\n",
        "\n",
        "print(is_primes(x))"
      ],
      "metadata": {
        "colab": {
          "base_uri": "https://localhost:8080/"
        },
        "id": "8_cluWFWUR0A",
        "outputId": "726781f8-eecc-4497-e021-3dae2a4a1b41"
      },
      "execution_count": 7,
      "outputs": [
        {
          "output_type": "stream",
          "name": "stdout",
          "text": [
            "Error, bilangan prima harus besar dari angka 1\n",
            "True\n"
          ]
        }
      ]
    },
    {
      "cell_type": "code",
      "source": [
        "x = 23\n",
        "\n",
        "print(is_primes(x))"
      ],
      "metadata": {
        "colab": {
          "base_uri": "https://localhost:8080/"
        },
        "id": "_yE25Fy3UmOG",
        "outputId": "c485041f-16f2-49e5-e0ad-e868b9f0f5ca"
      },
      "execution_count": 8,
      "outputs": [
        {
          "output_type": "stream",
          "name": "stdout",
          "text": [
            "True\n"
          ]
        }
      ]
    },
    {
      "cell_type": "code",
      "source": [
        "v = 8\n",
        "\n",
        "print(is_primes(v))"
      ],
      "metadata": {
        "colab": {
          "base_uri": "https://localhost:8080/"
        },
        "id": "85de8JAhU2Y4",
        "outputId": "86ab0e51-b5de-4f0f-828d-a53632f8b4fa"
      },
      "execution_count": 9,
      "outputs": [
        {
          "output_type": "stream",
          "name": "stdout",
          "text": [
            "False\n"
          ]
        }
      ]
    },
    {
      "cell_type": "code",
      "source": [
        "y = 25\n",
        "\n",
        "print(is_primes(y))"
      ],
      "metadata": {
        "colab": {
          "base_uri": "https://localhost:8080/"
        },
        "id": "v2zG0aDtVAuD",
        "outputId": "51d8980e-9420-4679-848e-bb7c7c40c124"
      },
      "execution_count": 10,
      "outputs": [
        {
          "output_type": "stream",
          "name": "stdout",
          "text": [
            "False\n"
          ]
        }
      ]
    },
    {
      "cell_type": "code",
      "source": [
        ""
      ],
      "metadata": {
        "id": "hxx23ayCVI0A"
      },
      "execution_count": null,
      "outputs": []
    }
  ]
}