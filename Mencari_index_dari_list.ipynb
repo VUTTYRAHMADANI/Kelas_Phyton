{
  "nbformat": 4,
  "nbformat_minor": 0,
  "metadata": {
    "colab": {
      "name": "Mencari index dari list.ipynb",
      "provenance": [],
      "authorship_tag": "ABX9TyNB/CPgUnkrQxIoskRY/3N2",
      "include_colab_link": true
    },
    "kernelspec": {
      "name": "python3",
      "display_name": "Python 3"
    },
    "language_info": {
      "name": "python"
    }
  },
  "cells": [
    {
      "cell_type": "markdown",
      "metadata": {
        "id": "view-in-github",
        "colab_type": "text"
      },
      "source": [
        "<a href=\"https://colab.research.google.com/github/VUTTYRAHMADANI/Kelas_Phyton/blob/main/Mencari_index_dari_list.ipynb\" target=\"_parent\"><img src=\"https://colab.research.google.com/assets/colab-badge.svg\" alt=\"Open In Colab\"/></a>"
      ]
    },
    {
      "cell_type": "code",
      "execution_count": 10,
      "metadata": {
        "colab": {
          "base_uri": "https://localhost:8080/"
        },
        "id": "PBa69nXzaehn",
        "outputId": "e8795de4-3ee4-46af-88f2-be8712140d5a"
      },
      "outputs": [
        {
          "output_type": "execute_result",
          "data": {
            "text/plain": [
              "TestResults(failed=0, attempted=1)"
            ]
          },
          "metadata": {},
          "execution_count": 10
        }
      ],
      "source": [
        "def mencari_index(data, k):\n",
        "  \"\"\" function ini berfungsi untuk mengurutkan data dari sebuah list dan mencari indexnya\n",
        "  Args:\n",
        "    data: list\n",
        "    k: int\n",
        "  \n",
        "  >>> mencari_index([1,4,6,3], 3)\n",
        "  1\n",
        "  \"\"\"\n",
        "  data.sort()\n",
        "  print(data.index(k))\n",
        "\n",
        "import doctest\n",
        "doctest.testmod()"
      ]
    },
    {
      "cell_type": "code",
      "source": [
        "mencari_index([2,1,4,7], 4)"
      ],
      "metadata": {
        "colab": {
          "base_uri": "https://localhost:8080/"
        },
        "id": "xyK-Nr1jbWN0",
        "outputId": "f968f7b6-1624-4022-af75-1dd95ee7ad91"
      },
      "execution_count": 2,
      "outputs": [
        {
          "output_type": "stream",
          "name": "stdout",
          "text": [
            "2\n"
          ]
        }
      ]
    },
    {
      "cell_type": "code",
      "source": [
        "mencari_index([3,8,2,5,1], 8)"
      ],
      "metadata": {
        "colab": {
          "base_uri": "https://localhost:8080/"
        },
        "id": "xHVKgQWbbc7w",
        "outputId": "1c7850e5-0d12-4119-aabf-4b8884b81798"
      },
      "execution_count": 5,
      "outputs": [
        {
          "output_type": "stream",
          "name": "stdout",
          "text": [
            "[1, 2, 3, 5, 8]\n",
            "4\n"
          ]
        }
      ]
    },
    {
      "cell_type": "code",
      "source": [
        "mencari_index([9,7,10,5,12], 5)"
      ],
      "metadata": {
        "colab": {
          "base_uri": "https://localhost:8080/"
        },
        "id": "VNTf1M-rcGXp",
        "outputId": "081e5f39-38c7-4040-edb7-7b9bd936eab3"
      },
      "execution_count": 6,
      "outputs": [
        {
          "output_type": "stream",
          "name": "stdout",
          "text": [
            "[5, 7, 9, 10, 12]\n",
            "0\n"
          ]
        }
      ]
    },
    {
      "cell_type": "code",
      "source": [
        "\n",
        "x = [1,2,3,4]\n",
        "\n",
        "x.sort(reverse=True)\n",
        "print(x)"
      ],
      "metadata": {
        "colab": {
          "base_uri": "https://localhost:8080/"
        },
        "id": "a3bD47H0cvMT",
        "outputId": "a83d6675-8ee4-4f40-e36c-0881a8d1e715"
      },
      "execution_count": 7,
      "outputs": [
        {
          "output_type": "stream",
          "name": "stdout",
          "text": [
            "[4, 3, 2, 1]\n"
          ]
        }
      ]
    },
    {
      "cell_type": "code",
      "source": [
        ""
      ],
      "metadata": {
        "id": "ELYqqyTRdAT9"
      },
      "execution_count": null,
      "outputs": []
    }
  ]
}